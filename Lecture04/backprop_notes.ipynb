{
 "cells": [
  {
   "cell_type": "markdown",
   "metadata": {},
   "source": [
    "## ex1"
   ]
  },
  {
   "cell_type": "code",
   "execution_count": 4,
   "metadata": {},
   "outputs": [
    {
     "name": "stdout",
     "output_type": "stream",
     "text": [
      "-4.0\n",
      "-4.0\n"
     ]
    }
   ],
   "source": [
    "# set some inputs\n",
    "x = -2; y = 5; z = -4\n",
    "\n",
    "q = x + y\n",
    "f = q * z\n",
    "\n",
    "dfdq = z\n",
    "dfsz = q\n",
    "\n",
    "dqdx = 1.0 * dfdq\n",
    "dqdy = 1.0 * dfdq\n",
    "\n",
    "print(dqdx)\n",
    "print(dqdy)"
   ]
  },
  {
   "cell_type": "markdown",
   "metadata": {},
   "source": [
    "## ex2"
   ]
  },
  {
   "cell_type": "code",
   "execution_count": 7,
   "metadata": {},
   "outputs": [
    {
     "name": "stdout",
     "output_type": "stream",
     "text": [
      "[-0.19661193324148185, -0.3932238664829637, 0.19661193324148185]\n",
      "[0.3932238664829637, -0.5898357997244456]\n"
     ]
    }
   ],
   "source": [
    "import math\n",
    "\n",
    "w = [2,-3,-3] # assume some random weights and data\n",
    "x = [-1, -2]\n",
    "\n",
    "# forward pass\n",
    "dot = w[0]*x[0] + w[1]*x[1] + w[2]\n",
    "f = 1 / (1 + math.exp(-dot))\n",
    "\n",
    "# backward pass through the neuron (backpropagation)\n",
    "ddot = f * ( 1 -f )\n",
    "dw = [ x[0]*ddot , x[1]*ddot , 1.0*ddot ]\n",
    "dx = [ w[0]*ddot , w[1]*ddot ]\n",
    "\n",
    "print(dw)\n",
    "print(dx)"
   ]
  },
  {
   "cell_type": "markdown",
   "metadata": {},
   "source": [
    "## Backprop in practice: Staged computation"
   ]
  },
  {
   "cell_type": "code",
   "execution_count": 12,
   "metadata": {},
   "outputs": [
    {
     "name": "stdout",
     "output_type": "stream",
     "text": [
      "2.0595697955721652\n",
      "1.5922327514838093\n"
     ]
    }
   ],
   "source": [
    "# my code\n",
    "\n",
    "x = 3 # example values\n",
    "y = -4\n",
    "\n",
    "# forward pass\n",
    "sigy = 1.0 / (1 + math.exp(-y)) # sigmoid in numerator   #(1)\n",
    "num = x + sigy # numerator                               #(2)\n",
    "sigx = 1.0 / (1 + math.exp(-x)) # sigmoid in denominator #(3)\n",
    "xpy = x + y                                              #(4)\n",
    "xpysqr = xpy**2                                          #(5)\n",
    "den = sigx + xpysqr # denominator                        #(6)\n",
    "invden = 1.0 / den                                       #(7)\n",
    "f = num * invden # done!                                 #(8)\n",
    "\n",
    "# backpropagation\n",
    "#8\n",
    "dfdnum = invden\n",
    "dfdinvden = num\n",
    "\n",
    "#7\n",
    "dfdden = dfdinvden * ( -1.0/(den**2))\n",
    "\n",
    "#6\n",
    "dfdsigx = dfdden\n",
    "dfdxpysqr = dfdden\n",
    "\n",
    "#5\n",
    "dfdxpy = dfdxpysqr * 2 * xpy\n",
    "\n",
    "#4\n",
    "dfdx = dfdxpy * (1.0)\n",
    "dfdy = dfdxpy * (1.0)\n",
    "\n",
    "\n",
    "#3\n",
    "dfdx += dfdsigx * sigx * (1 - sigx)\n",
    "\n",
    "#2\n",
    "dfdx += dfdnum * (1.0)\n",
    "dfdsigy = dfdnum * (1.0)\n",
    "\n",
    "#1\n",
    "dfdy += dfdsigy * sigy * (1 - sigy )\n",
    "\n",
    "print(dfdx)\n",
    "print(dfdy)"
   ]
  },
  {
   "cell_type": "code",
   "execution_count": 13,
   "metadata": {},
   "outputs": [
    {
     "name": "stdout",
     "output_type": "stream",
     "text": [
      "2.0595697955721652\n",
      "1.5922327514838093\n"
     ]
    }
   ],
   "source": [
    "# answer\n",
    "\n",
    "x = 3 # example values\n",
    "y = -4\n",
    "\n",
    "# forward pass\n",
    "sigy = 1.0 / (1 + math.exp(-y)) # sigmoid in numerator   #(1)\n",
    "num = x + sigy # numerator                               #(2)\n",
    "sigx = 1.0 / (1 + math.exp(-x)) # sigmoid in denominator #(3)\n",
    "xpy = x + y                                              #(4)\n",
    "xpysqr = xpy**2                                          #(5)\n",
    "den = sigx + xpysqr # denominator                        #(6)\n",
    "invden = 1.0 / den                                       #(7)\n",
    "f = num * invden # done!\n",
    "\n",
    "# backprop f = num * invden\n",
    "dnum = invden # gradient on numerator                             #(8)\n",
    "dinvden = num                                                     #(8)\n",
    "# backprop invden = 1.0 / den \n",
    "dden = (-1.0 / (den**2)) * dinvden                                #(7)\n",
    "# backprop den = sigx + xpysqr\n",
    "dsigx = (1) * dden                                                #(6)\n",
    "dxpysqr = (1) * dden                                              #(6)\n",
    "# backprop xpysqr = xpy**2\n",
    "dxpy = (2 * xpy) * dxpysqr                                        #(5)\n",
    "# backprop xpy = x + y\n",
    "dx = (1) * dxpy                                                   #(4)\n",
    "dy = (1) * dxpy                                                   #(4)\n",
    "# backprop sigx = 1.0 / (1 + math.exp(-x))\n",
    "dx += ((1 - sigx) * sigx) * dsigx # Notice += !! See notes below  #(3)\n",
    "# backprop num = x + sigy\n",
    "dx += (1) * dnum                                                  #(2)\n",
    "dsigy = (1) * dnum                                                #(2)\n",
    "# backprop sigy = 1.0 / (1 + math.exp(-y))\n",
    "dy += ((1 - sigy) * sigy) * dsigy                                 #(1)\n",
    "# done! phew\n",
    "\n",
    "print(dx)\n",
    "print(dy)"
   ]
  },
  {
   "cell_type": "markdown",
   "metadata": {},
   "source": [
    "## Gradients for vectorized operations"
   ]
  },
  {
   "cell_type": "code",
   "execution_count": 18,
   "metadata": {},
   "outputs": [],
   "source": [
    "import numpy as np\n",
    "\n",
    "# forward pass\n",
    "W = np.random.randn(5,10)\n",
    "X = np.random.randn(10,3)\n",
    "D = W.dot(X)"
   ]
  },
  {
   "cell_type": "code",
   "execution_count": 19,
   "metadata": {},
   "outputs": [
    {
     "data": {
      "text/plain": [
       "(5, 3)"
      ]
     },
     "execution_count": 19,
     "metadata": {},
     "output_type": "execute_result"
    }
   ],
   "source": [
    "D.shape"
   ]
  },
  {
   "cell_type": "code",
   "execution_count": 20,
   "metadata": {},
   "outputs": [],
   "source": [
    "# now suppose we had the gradient on D from above in the circuit\n",
    "dD = np.random.randn(*D.shape) # same shape as D\n",
    "dW = dD.dot(X.T) #.T gives the transpose of the matrix\n",
    "dX = W.T.dot(dD)"
   ]
  },
  {
   "cell_type": "code",
   "execution_count": 21,
   "metadata": {},
   "outputs": [
    {
     "data": {
      "text/plain": [
       "array([[ 0.00546042, -1.25876204, -0.55680962],\n",
       "       [-0.30180074, -0.02729946,  0.63547412],\n",
       "       [-0.76913236,  1.40790803,  0.44814242],\n",
       "       [-0.07390195, -0.37608441,  0.00894737],\n",
       "       [-0.9682816 , -0.57364478,  1.62787242]])"
      ]
     },
     "execution_count": 21,
     "metadata": {},
     "output_type": "execute_result"
    }
   ],
   "source": [
    "dD"
   ]
  },
  {
   "cell_type": "code",
   "execution_count": 22,
   "metadata": {},
   "outputs": [
    {
     "data": {
      "text/plain": [
       "array([[ 0.07498633,  0.05192576,  2.69297514,  0.21401437, -0.11818966,\n",
       "         1.70897097, -2.3677516 ,  0.11926526,  0.94370785, -2.80972571],\n",
       "       [ 0.02849226,  0.96060496, -0.64080611, -0.17810062,  0.30202596,\n",
       "        -0.30708519,  1.48965255, -0.2422224 ,  0.207198  , -0.11809927],\n",
       "       [-1.93624032,  1.1039572 , -2.57732338, -0.42628593,  0.54214182,\n",
       "        -3.1253848 ,  2.56855313, -0.36456606, -0.64838554,  1.27062376],\n",
       "       [ 0.04323141,  0.26483059,  0.6134878 ,  0.01620425,  0.04353272,\n",
       "         0.42702485, -0.29270175, -0.02845917,  0.32914647, -0.84108125],\n",
       "       [-0.0919851 ,  2.96893429, -0.77724245, -0.45961621,  0.88566705,\n",
       "        -0.36583136,  3.43591895, -0.6898978 ,  1.02330092, -1.65546131]])"
      ]
     },
     "execution_count": 22,
     "metadata": {},
     "output_type": "execute_result"
    }
   ],
   "source": [
    "dW"
   ]
  },
  {
   "cell_type": "code",
   "execution_count": 23,
   "metadata": {},
   "outputs": [
    {
     "data": {
      "text/plain": [
       "array([[ 0.62496173, -0.60477063,  1.15539713],\n",
       "       [-1.27174916,  1.76861987,  0.47916554],\n",
       "       [ 0.65331897, -0.07210365, -0.93589615],\n",
       "       [ 1.45802413, -0.10059963, -3.02744657],\n",
       "       [-0.89205363,  3.94862427,  0.75145071],\n",
       "       [ 1.14392879, -1.39343847, -2.94672801],\n",
       "       [-0.46327857,  0.28888793,  0.29461728],\n",
       "       [-0.09176692,  1.36202942, -1.21678311],\n",
       "       [-0.68868329,  2.19111234,  0.82928915],\n",
       "       [ 0.28989003, -1.88217366, -0.660025  ]])"
      ]
     },
     "execution_count": 23,
     "metadata": {},
     "output_type": "execute_result"
    }
   ],
   "source": [
    "dX"
   ]
  },
  {
   "cell_type": "code",
   "execution_count": null,
   "metadata": {},
   "outputs": [],
   "source": []
  }
 ],
 "metadata": {
  "kernelspec": {
   "display_name": "Python 3",
   "language": "python",
   "name": "python3"
  },
  "language_info": {
   "codemirror_mode": {
    "name": "ipython",
    "version": 3
   },
   "file_extension": ".py",
   "mimetype": "text/x-python",
   "name": "python",
   "nbconvert_exporter": "python",
   "pygments_lexer": "ipython3",
   "version": "3.6.6"
  }
 },
 "nbformat": 4,
 "nbformat_minor": 2
}
